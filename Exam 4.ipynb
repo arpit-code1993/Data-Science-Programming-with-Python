{
 "cells": [
  {
   "cell_type": "code",
   "execution_count": 1,
   "metadata": {},
   "outputs": [
    {
     "name": "stderr",
     "output_type": "stream",
     "text": [
      "Using TensorFlow backend.\n",
      "WARNING:root:Limited tf.compat.v2.summary API due to missing TensorBoard installation.\n",
      "WARNING:root:Limited tf.compat.v2.summary API due to missing TensorBoard installation.\n",
      "WARNING:root:Limited tf.compat.v2.summary API due to missing TensorBoard installation.\n",
      "WARNING:root:Limited tf.compat.v2.summary API due to missing TensorBoard installation.\n",
      "WARNING:root:Limited tf.compat.v2.summary API due to missing TensorBoard installation.\n",
      "WARNING:root:Limited tf.compat.v2.summary API due to missing TensorBoard installation.\n",
      "WARNING:root:Limited tf.summary API due to missing TensorBoard installation.\n",
      "C:\\Users\\RajKumar\\Anaconda3\\lib\\site-packages\\sklearn\\externals\\joblib\\__init__.py:15: DeprecationWarning: sklearn.externals.joblib is deprecated in 0.21 and will be removed in 0.23. Please import this functionality directly from joblib, which can be installed with: pip install joblib. If this warning is raised when loading pickled models, you may need to re-serialize those models with scikit-learn 0.21+.\n",
      "  warnings.warn(msg, category=DeprecationWarning)\n"
     ]
    }
   ],
   "source": [
    "import keras \n",
    "from keras import layers\n",
    "from keras.layers import Input, Dense, Conv2D, MaxPooling2D, UpSampling2D\n",
    "from keras.models import Model, Sequential\n",
    "from keras.datasets import mnist\n",
    "from keras import backend as K\n",
    "from keras.preprocessing.image import img_to_array\n",
    "from keras.applications.vgg19 import VGG19, preprocess_input\n",
    "from keras.utils import np_utils\n",
    "\n",
    "import sklearn\n",
    "from sklearn.pipeline import Pipeline\n",
    "from sklearn.model_selection import GridSearchCV, train_test_split, cross_validate\n",
    "from sklearn.metrics import confusion_matrix, accuracy_score, auc, roc_auc_score, roc_curve\n",
    "from sklearn.externals import joblib\n",
    "from sklearn.preprocessing import LabelEncoder\n",
    "\n",
    "from random import shuffle\n",
    "\n",
    "import numpy as np\n",
    "import pandas as pd\n",
    "import matplotlib\n",
    "%matplotlib inline\n",
    "import matplotlib.pyplot as plt\n",
    "\n",
    "import os\n",
    "import cv2"
   ]
  },
  {
   "cell_type": "code",
   "execution_count": 2,
   "metadata": {},
   "outputs": [
    {
     "name": "stdout",
     "output_type": "stream",
     "text": [
      "Downloading data from https://s3.amazonaws.com/img-datasets/mnist.npz\n",
      "11493376/11490434 [==============================] - 5s 0us/step\n"
     ]
    }
   ],
   "source": [
    "#Import the MNIST dataset\n",
    "(X_train, _), (X_test, _) = mnist.load_data()\n",
    "X_train = X_train.astype('float32')/255.0\n",
    "X_test = X_test.astype('float32')/255.0"
   ]
  },
  {
   "cell_type": "code",
   "execution_count": 3,
   "metadata": {},
   "outputs": [],
   "source": [
    "from sklearn.model_selection import train_test_split\n",
    "X_train, X_test2 = train_test_split(X_train, test_size=0.8, random_state=42)"
   ]
  },
  {
   "cell_type": "code",
   "execution_count": 4,
   "metadata": {},
   "outputs": [
    {
     "name": "stdout",
     "output_type": "stream",
     "text": [
      "Training data shape:  (12000, 28, 28)\n",
      "Testing data shape:  (10000, 28, 28)\n"
     ]
    }
   ],
   "source": [
    "print(\"Training data shape: \", X_train.shape)\n",
    "\n",
    "print(\"Testing data shape: \", X_test.shape)"
   ]
  },
  {
   "cell_type": "code",
   "execution_count": 5,
   "metadata": {},
   "outputs": [
    {
     "name": "stdout",
     "output_type": "stream",
     "text": [
      "Training data_MLP shape:  (12000, 784)\n",
      "Testing data_MLP shape:  (10000, 784)\n",
      "Training data shape:  (12000, 28, 28, 1)\n",
      "Testing data shape:  (10000, 28, 28, 1)\n"
     ]
    }
   ],
   "source": [
    "#Shape the data\n",
    "\n",
    "X_train_MLP = X_train.reshape((X_train.shape[0], -1))\n",
    "X_test_MLP = X_test.reshape((X_test.shape[0], -1))\n",
    "print(\"Training data_MLP shape: \", X_train_MLP.shape)\n",
    "print(\"Testing data_MLP shape: \", X_test_MLP.shape)\n",
    "\n",
    "X_train = X_train[..., np.newaxis]\n",
    "X_test = X_test[..., np.newaxis]\n",
    "print(\"Training data shape: \", X_train.shape)\n",
    "print(\"Testing data shape: \", X_test.shape)"
   ]
  },
  {
   "cell_type": "markdown",
   "metadata": {},
   "source": [
    "##Hidden layer 1"
   ]
  },
  {
   "cell_type": "code",
   "execution_count": 13,
   "metadata": {},
   "outputs": [],
   "source": [
    "INPUT_SIZE = 784\n",
    "HIDDEN_ONE = 256\n",
    "ENCODING_SIZE = 32\n",
    "\n",
    "input_MLP = Input(shape=(INPUT_SIZE,))\n",
    "\n",
    "MLP_encode = Dense(HIDDEN_ONE, activation='relu')(input_MLP)\n",
    "\n",
    "MLP_encode = Dense(ENCODING_SIZE, activation='relu')(MLP_encode)\n",
    "\n",
    "MLP_decode = Dense(HIDDEN_ONE, activation='relu')(MLP_encode)\n",
    "MLP_decode = Dense(INPUT_SIZE, activation='relu')(MLP_decode)\n",
    "autoencoder_MLP1 = Model(input_MLP, MLP_decode)"
   ]
  },
  {
   "cell_type": "code",
   "execution_count": 14,
   "metadata": {},
   "outputs": [
    {
     "name": "stdout",
     "output_type": "stream",
     "text": [
      "Train on 9600 samples, validate on 2400 samples\n",
      "Epoch 1/10\n",
      "9600/9600 [==============================] - 3s 309us/step - loss: 0.0410 - val_loss: 0.0243\n",
      "Epoch 2/10\n",
      "9600/9600 [==============================] - 2s 257us/step - loss: 0.0218 - val_loss: 0.0203\n",
      "Epoch 3/10\n",
      "9600/9600 [==============================] - 2s 219us/step - loss: 0.0192 - val_loss: 0.0186\n",
      "Epoch 4/10\n",
      "9600/9600 [==============================] - 3s 302us/step - loss: 0.0181 - val_loss: 0.0178\n",
      "Epoch 5/10\n",
      "9600/9600 [==============================] - 2s 212us/step - loss: 0.0173 - val_loss: 0.0173\n",
      "Epoch 6/10\n",
      "9600/9600 [==============================] - 2s 209us/step - loss: 0.0168 - val_loss: 0.0169\n",
      "Epoch 7/10\n",
      "9600/9600 [==============================] - 2s 237us/step - loss: 0.0164 - val_loss: 0.0166\n",
      "Epoch 8/10\n",
      "9600/9600 [==============================] - 2s 206us/step - loss: 0.0161 - val_loss: 0.0163\n",
      "Epoch 9/10\n",
      "9600/9600 [==============================] - 2s 230us/step - loss: 0.0158 - val_loss: 0.0160\n",
      "Epoch 10/10\n",
      "9600/9600 [==============================] - 2s 235us/step - loss: 0.0155 - val_loss: 0.0159\n"
     ]
    }
   ],
   "source": [
    "autoencoder_MLP1.compile(optimizer='adam',loss='mean_squared_error')\n",
    "\n",
    "autoencoder_MLP1.fit(X_train_MLP,\n",
    "                   X_train_MLP,\n",
    "                   epochs=10,\n",
    "                   batch_size=64,\n",
    "                   shuffle=True,\n",
    "                   validation_split=0.2)\n",
    "\n",
    "decoded_MLP1 = autoencoder_MLP1.predict(X_test_MLP)"
   ]
  },
  {
   "cell_type": "code",
   "execution_count": 15,
   "metadata": {},
   "outputs": [
    {
     "data": {
      "image/png": "[encoded data removed]",
      "text/plain": [
       "<Figure size 1440x288 with 20 Axes>"
      ]
     },
     "metadata": {
      "needs_background": "light"
     },
     "output_type": "display_data"
    }
   ],
   "source": [
    "plt.figure(figsize=(20,4))\n",
    "for i in range(10):\n",
    "    plt.subplot(2,10,i+1)\n",
    "    plt.imshow(X_test_MLP[i].reshape(28,28))\n",
    "    plt.gray()\n",
    "    plt.axis('off')\n",
    "    \n",
    "    plt.subplot(2,10,i+1+10)\n",
    "    plt.imshow(decoded_MLP1[i].reshape(28,28))\n",
    "    plt.gray()\n",
    "    plt.axis('off')\n",
    "\n",
    "plt.tight_layout()\n",
    "plt.show()"
   ]
  },
  {
   "cell_type": "markdown",
   "metadata": {},
   "source": [
    "##Hidden layer 2"
   ]
  },
  {
   "cell_type": "code",
   "execution_count": 16,
   "metadata": {},
   "outputs": [],
   "source": [
    "INPUT_SIZE = 784\n",
    "HIDDEN_ONE = 256\n",
    "HIDDEN_TWO = 128\n",
    "ENCODING_SIZE = 32\n",
    "\n",
    "input_MLP = Input(shape=(INPUT_SIZE,))\n",
    "MLP_encode = Dense(HIDDEN_ONE, activation='relu')(input_MLP)\n",
    "MLP_encode = Dense(HIDDEN_TWO, activation='relu')(MLP_encode)\n",
    "\n",
    "MLP_encode = Dense(ENCODING_SIZE, activation='relu')(MLP_encode)\n",
    "\n",
    "MLP_decode = Dense(HIDDEN_TWO, activation='relu')(MLP_encode)\n",
    "MLP_decode = Dense(HIDDEN_ONE, activation='relu')(MLP_decode)\n",
    "MLP_decode = Dense(INPUT_SIZE, activation='relu')(MLP_decode)\n",
    "autoencoder_MLP2 = Model(input_MLP, MLP_decode)"
   ]
  },
  {
   "cell_type": "code",
   "execution_count": 17,
   "metadata": {},
   "outputs": [
    {
     "name": "stdout",
     "output_type": "stream",
     "text": [
      "Train on 9600 samples, validate on 2400 samples\n",
      "Epoch 1/10\n",
      "9600/9600 [==============================] - 4s 415us/step - loss: 0.0485 - val_loss: 0.0301\n",
      "Epoch 2/10\n",
      "9600/9600 [==============================] - 2s 240us/step - loss: 0.0268 - val_loss: 0.0245\n",
      "Epoch 3/10\n",
      "9600/9600 [==============================] - 3s 278us/step - loss: 0.0230 - val_loss: 0.0219\n",
      "Epoch 4/10\n",
      "9600/9600 [==============================] - 2s 256us/step - loss: 0.0211 - val_loss: 0.0208\n",
      "Epoch 5/10\n",
      "9600/9600 [==============================] - 2s 259us/step - loss: 0.0197 - val_loss: 0.0191\n",
      "Epoch 6/10\n",
      "9600/9600 [==============================] - 2s 256us/step - loss: 0.0184 - val_loss: 0.0180\n",
      "Epoch 7/10\n",
      "9600/9600 [==============================] - 2s 245us/step - loss: 0.0174 - val_loss: 0.0177\n",
      "Epoch 8/10\n",
      "9600/9600 [==============================] - 3s 276us/step - loss: 0.0169 - val_loss: 0.0171\n",
      "Epoch 9/10\n",
      "9600/9600 [==============================] - 2s 243us/step - loss: 0.0162 - val_loss: 0.0166\n",
      "Epoch 10/10\n",
      "9600/9600 [==============================] - 3s 269us/step - loss: 0.0158 - val_loss: 0.0162\n"
     ]
    }
   ],
   "source": [
    "autoencoder_MLP2.compile(optimizer='adam',loss='mean_squared_error')\n",
    "\n",
    "autoencoder_MLP2.fit(X_train_MLP,\n",
    "                   X_train_MLP,\n",
    "                   epochs=10,\n",
    "                   batch_size=64,\n",
    "                   shuffle=True,\n",
    "                   validation_split=0.2)\n",
    "\n",
    "decoded_MLP2 = autoencoder_MLP2.predict(X_test_MLP)"
   ]
  },
  {
   "cell_type": "code",
   "execution_count": 18,
   "metadata": {},
   "outputs": [
    {
     "data": {
      "image/png": "[encoded data removed]",
      "text/plain": [
       "<Figure size 1440x288 with 20 Axes>"
      ]
     },
     "metadata": {
      "needs_background": "light"
     },
     "output_type": "display_data"
    }
   ],
   "source": [
    "plt.figure(figsize=(20,4))\n",
    "for i in range(10):\n",
    "    plt.subplot(2,10,i+1)\n",
    "    plt.imshow(X_test_MLP[i].reshape(28,28))\n",
    "    plt.gray()\n",
    "    plt.axis('off')\n",
    "    \n",
    "    plt.subplot(2,10,i+1+10)\n",
    "    plt.imshow(decoded_MLP2[i].reshape(28,28))\n",
    "    plt.gray()\n",
    "    plt.axis('off')\n",
    "\n",
    "plt.tight_layout()\n",
    "plt.show()"
   ]
  },
  {
   "cell_type": "markdown",
   "metadata": {},
   "source": [
    "##Hidden layer 3"
   ]
  },
  {
   "cell_type": "code",
   "execution_count": 19,
   "metadata": {},
   "outputs": [],
   "source": [
    "INPUT_SIZE = 784\n",
    "HIDDEN_ONE = 256\n",
    "HIDDEN_TWO = 128\n",
    "HIDDEN_THREE = 64\n",
    "ENCODING_SIZE = 32\n",
    "\n",
    "input_MLP = Input(shape=(INPUT_SIZE,))\n",
    "MLP_encode = Dense(HIDDEN_ONE, activation='relu')(input_MLP)\n",
    "MLP_encode = Dense(HIDDEN_TWO, activation='relu')(MLP_encode)\n",
    "MLP_encode = Dense(HIDDEN_THREE, activation='relu')(MLP_encode)\n",
    "\n",
    "MLP_encode = Dense(ENCODING_SIZE, activation='relu')(MLP_encode)\n",
    "\n",
    "MLP_decode = Dense(HIDDEN_THREE, activation='relu')(MLP_encode)\n",
    "MLP_decode = Dense(HIDDEN_TWO, activation='relu')(MLP_decode)\n",
    "MLP_decode = Dense(HIDDEN_ONE, activation='relu')(MLP_decode)\n",
    "MLP_decode = Dense(INPUT_SIZE, activation='relu')(MLP_decode)\n",
    "autoencoder_MLP3 = Model(input_MLP, MLP_decode)"
   ]
  },
  {
   "cell_type": "code",
   "execution_count": 20,
   "metadata": {},
   "outputs": [
    {
     "name": "stdout",
     "output_type": "stream",
     "text": [
      "Train on 9600 samples, validate on 2400 samples\n",
      "Epoch 1/10\n",
      "9600/9600 [==============================] - 4s 457us/step - loss: 0.0549 - val_loss: 0.0362\n",
      "Epoch 2/10\n",
      "9600/9600 [==============================] - 3s 262us/step - loss: 0.0322 - val_loss: 0.0291\n",
      "Epoch 3/10\n",
      "9600/9600 [==============================] - 3s 319us/step - loss: 0.0271 - val_loss: 0.0251\n",
      "Epoch 4/10\n",
      "9600/9600 [==============================] - 3s 261us/step - loss: 0.0238 - val_loss: 0.0227\n",
      "Epoch 5/10\n",
      "9600/9600 [==============================] - 3s 306us/step - loss: 0.0215 - val_loss: 0.0210\n",
      "Epoch 6/10\n",
      "9600/9600 [==============================] - 3s 266us/step - loss: 0.0199 - val_loss: 0.0198\n",
      "Epoch 7/10\n",
      "9600/9600 [==============================] - 3s 286us/step - loss: 0.0190 - val_loss: 0.0188\n",
      "Epoch 8/10\n",
      "9600/9600 [==============================] - 2s 253us/step - loss: 0.0182 - val_loss: 0.0186\n",
      "Epoch 9/10\n",
      "9600/9600 [==============================] - 3s 287us/step - loss: 0.0173 - val_loss: 0.0175\n",
      "Epoch 10/10\n",
      "9600/9600 [==============================] - 2s 259us/step - loss: 0.0167 - val_loss: 0.0172\n"
     ]
    }
   ],
   "source": [
    "autoencoder_MLP3.compile(optimizer='adam',loss='mean_squared_error')\n",
    "\n",
    "autoencoder_MLP3.fit(X_train_MLP,\n",
    "                   X_train_MLP,\n",
    "                   epochs=10,\n",
    "                   batch_size=64,\n",
    "                   shuffle=True,\n",
    "                   validation_split=0.2)\n",
    "\n",
    "decoded_MLP3 = autoencoder_MLP3.predict(X_test_MLP)"
   ]
  },
  {
   "cell_type": "code",
   "execution_count": 21,
   "metadata": {},
   "outputs": [
    {
     "data": {
      "image/png": "[encoded data removed]",
      "text/plain": [
       "<Figure size 1440x288 with 20 Axes>"
      ]
     },
     "metadata": {
      "needs_background": "light"
     },
     "output_type": "display_data"
    }
   ],
   "source": [
    "plt.figure(figsize=(20,4))\n",
    "for i in range(10):\n",
    "    plt.subplot(2,10,i+1)\n",
    "    plt.imshow(X_test_MLP[i].reshape(28,28))\n",
    "    plt.gray()\n",
    "    plt.axis('off')\n",
    "    \n",
    "    plt.subplot(2,10,i+1+10)\n",
    "    plt.imshow(decoded_MLP3[i].reshape(28,28))\n",
    "    plt.gray()\n",
    "    plt.axis('off')\n",
    "\n",
    "plt.tight_layout()\n",
    "plt.show()"
   ]
  },
  {
   "cell_type": "markdown",
   "metadata": {},
   "source": [
    "##(d)\tThen create a scenario where using two hidden layers the output looks better than using three hidden layers. You can modify the parameters of course – i.e. the numbers for the configuration of the two hidden layers can be very different in the numbers for the configuration of the three hidden layers."
   ]
  },
  {
   "cell_type": "code",
   "execution_count": 22,
   "metadata": {},
   "outputs": [],
   "source": [
    "INPUT_SIZE = 784\n",
    "HIDDEN_ONE = 512\n",
    "HIDDEN_TWO = 256\n",
    "ENCODING_SIZE = 32\n",
    "\n",
    "input_MLP = Input(shape=(INPUT_SIZE,))\n",
    "MLP_encode = Dense(HIDDEN_ONE, activation='relu')(input_MLP)\n",
    "MLP_encode = Dense(HIDDEN_TWO, activation='relu')(MLP_encode)\n",
    "\n",
    "\n",
    "MLP_encode = Dense(ENCODING_SIZE, activation='relu')(MLP_encode)\n",
    "\n",
    "MLP_decode = Dense(HIDDEN_TWO, activation='relu')(MLP_encode)\n",
    "MLP_decode = Dense(HIDDEN_ONE, activation='relu')(MLP_decode)\n",
    "MLP_decode = Dense(INPUT_SIZE, activation='relu')(MLP_decode)\n",
    "autoencoder_MLP_2 = Model(input_MLP, MLP_decode)"
   ]
  },
  {
   "cell_type": "code",
   "execution_count": 23,
   "metadata": {},
   "outputs": [
    {
     "name": "stdout",
     "output_type": "stream",
     "text": [
      "Train on 9600 samples, validate on 2400 samples\n",
      "Epoch 1/15\n",
      "9600/9600 [==============================] - 8s 857us/step - loss: 0.0418 - val_loss: 0.0250\n",
      "Epoch 2/15\n",
      "9600/9600 [==============================] - 6s 666us/step - loss: 0.0220 - val_loss: 0.0200\n",
      "Epoch 3/15\n",
      "9600/9600 [==============================] - 6s 651us/step - loss: 0.0183 - val_loss: 0.0177\n",
      "Epoch 4/15\n",
      "9600/9600 [==============================] - 8s 808us/step - loss: 0.0164 - val_loss: 0.0163\n",
      "Epoch 5/15\n",
      "9600/9600 [==============================] - 7s 704us/step - loss: 0.0152 - val_loss: 0.0153\n",
      "Epoch 6/15\n",
      "9600/9600 [==============================] - 7s 698us/step - loss: 0.0144 - val_loss: 0.0150\n",
      "Epoch 7/15\n",
      "9600/9600 [==============================] - 6s 597us/step - loss: 0.0139 - val_loss: 0.0144\n",
      "Epoch 8/15\n",
      "9600/9600 [==============================] - 6s 648us/step - loss: 0.0132 - val_loss: 0.0138\n",
      "Epoch 9/15\n",
      "9600/9600 [==============================] - 6s 665us/step - loss: 0.0126 - val_loss: 0.0136\n",
      "Epoch 10/15\n",
      "9600/9600 [==============================] - 6s 673us/step - loss: 0.0123 - val_loss: 0.0133\n",
      "Epoch 11/15\n",
      "9600/9600 [==============================] - 6s 672us/step - loss: 0.0121 - val_loss: 0.0131\n",
      "Epoch 12/15\n",
      "9600/9600 [==============================] - 7s 711us/step - loss: 0.0118 - val_loss: 0.0129\n",
      "Epoch 13/15\n",
      "9600/9600 [==============================] - 7s 688us/step - loss: 0.0116 - val_loss: 0.0129\n",
      "Epoch 14/15\n",
      "9600/9600 [==============================] - 6s 655us/step - loss: 0.0115 - val_loss: 0.0128\n",
      "Epoch 15/15\n",
      "9600/9600 [==============================] - 6s 665us/step - loss: 0.0113 - val_loss: 0.0127\n"
     ]
    }
   ],
   "source": [
    "autoencoder_MLP_2.compile(optimizer='adam',loss='mean_squared_error')\n",
    "\n",
    "autoencoder_MLP_2.fit(X_train_MLP,\n",
    "                   X_train_MLP,\n",
    "                   epochs=15,\n",
    "                   batch_size=64,\n",
    "                   shuffle=True,\n",
    "                   validation_split=0.2)\n",
    "\n",
    "decoded_MLP_2 = autoencoder_MLP_2.predict(X_test_MLP)"
   ]
  },
  {
   "cell_type": "code",
   "execution_count": 24,
   "metadata": {},
   "outputs": [
    {
     "data": {
      "image/png": "[encoded data removed]",
      "text/plain": [
       "<Figure size 1440x288 with 20 Axes>"
      ]
     },
     "metadata": {
      "needs_background": "light"
     },
     "output_type": "display_data"
    }
   ],
   "source": [
    "plt.figure(figsize=(20,4))\n",
    "for i in range(10):\n",
    "    plt.subplot(2,10,i+1)\n",
    "    plt.imshow(X_test_MLP[i].reshape(28,28))\n",
    "    plt.gray()\n",
    "    plt.axis('off')\n",
    "    \n",
    "    plt.subplot(2,10,i+1+10)\n",
    "    plt.imshow(decoded_MLP_2[i].reshape(28,28))\n",
    "    plt.gray()\n",
    "    plt.axis('off')\n",
    "\n",
    "plt.tight_layout()\n",
    "plt.show()"
   ]
  },
  {
   "cell_type": "markdown",
   "metadata": {},
   "source": [
    "Hidden layer one is increased from 256 to 512 and Hidden layer two is increased from 128 to 256 and Number of epochs increased to 15\n",
    "Image got cleaned better than the previous model."
   ]
  },
  {
   "cell_type": "markdown",
   "metadata": {},
   "source": [
    "2. Again using the MNIST dataset with any number of points in the training set that you want, but with the same test set of 10,000 points, build any two CNN architectures (i.e. based on modifying the number of layers or the kinds of layers) and compare their outputs based on test accuracy and test loss metrics (no plots needed). Only keep the code that is needed (you will find the MNIST.ipynb notebook useful for this). Please document your code."
   ]
  },
  {
   "cell_type": "code",
   "execution_count": 25,
   "metadata": {},
   "outputs": [],
   "source": [
    "from __future__ import print_function\n",
    "from matplotlib import pyplot as plt\n",
    "import keras\n",
    "from sklearn.metrics import confusion_matrix\n",
    "from keras import backend as K\n",
    "from keras.datasets import mnist\n",
    "from keras.models import Sequential,model_from_json\n",
    "from keras.layers import Dense, Dropout, Flatten\n",
    "from keras.layers import Conv2D, MaxPooling2D\n",
    "from keras.optimizers import RMSprop"
   ]
  },
  {
   "cell_type": "markdown",
   "metadata": {},
   "source": [
    "CNN Architecture 1"
   ]
  },
  {
   "cell_type": "code",
   "execution_count": 31,
   "metadata": {},
   "outputs": [],
   "source": [
    "batch_size = 128\n",
    "num_classes = 10\n",
    "epochs = 3\n",
    "\n",
    "# input image dimensions\n",
    "img_rows, img_cols = 28, 28"
   ]
  },
  {
   "cell_type": "code",
   "execution_count": 32,
   "metadata": {},
   "outputs": [],
   "source": [
    "# the data, split between train and test sets\n",
    "(x_train, y_train), (x_test, y_test) = mnist.load_data()\n",
    "x_train, ignore, y_train, ignore2 = train_test_split(x_train, y_train, test_size=0.8, random_state=42)"
   ]
  },
  {
   "cell_type": "code",
   "execution_count": 33,
   "metadata": {},
   "outputs": [
    {
     "name": "stdout",
     "output_type": "stream",
     "text": [
      "(12000, 28, 28)\n"
     ]
    }
   ],
   "source": [
    "print(x_train.shape)"
   ]
  },
  {
   "cell_type": "code",
   "execution_count": 34,
   "metadata": {},
   "outputs": [
    {
     "name": "stdout",
     "output_type": "stream",
     "text": [
      "x_train shape: (12000, 28, 28, 1)\n",
      "12000 train samples\n",
      "10000 test samples\n"
     ]
    }
   ],
   "source": [
    "if K.image_data_format() == 'channels_first':\n",
    "    x_train = x_train.reshape(x_train.shape[0], 1, img_rows, img_cols)\n",
    "    x_test = x_test.reshape(x_test.shape[0], 1, img_rows, img_cols)\n",
    "    input_shape = (1, img_rows, img_cols)\n",
    "else:\n",
    "    x_train = x_train.reshape(x_train.shape[0], img_rows, img_cols, 1)\n",
    "    x_test = x_test.reshape(x_test.shape[0], img_rows, img_cols, 1)\n",
    "    input_shape = (img_rows, img_cols, 1)\n",
    "\n",
    "x_train = x_train.astype('float32')\n",
    "x_test = x_test.astype('float32')\n",
    "x_train /= 255\n",
    "x_test /= 255\n",
    "print('x_train shape:', x_train.shape)\n",
    "print(x_train.shape[0], 'train samples')\n",
    "print(x_test.shape[0], 'test samples')\n",
    "\n",
    "# convert class vectors to binary class matrices\n",
    "y_train = keras.utils.to_categorical(y_train, num_classes)\n",
    "y_test = keras.utils.to_categorical(y_test, num_classes)"
   ]
  },
  {
   "cell_type": "code",
   "execution_count": 35,
   "metadata": {},
   "outputs": [],
   "source": [
    "model = Sequential()\n",
    "model.add(Conv2D(32, kernel_size=(3, 3),\n",
    "                 activation='relu',\n",
    "                 input_shape=input_shape))\n",
    "model.add(Conv2D(64, (3, 3), activation='relu'))\n",
    "model.add(MaxPooling2D(pool_size=(2, 2)))\n",
    "model.add(Dropout(0.25))\n",
    "model.add(Flatten())\n",
    "model.add(Dense(128, activation='relu'))\n",
    "model.add(Dropout(0.5))\n",
    "model.add(Dense(num_classes, activation='softmax'))"
   ]
  },
  {
   "cell_type": "code",
   "execution_count": 36,
   "metadata": {},
   "outputs": [],
   "source": [
    "model.compile(loss=keras.losses.categorical_crossentropy,\n",
    "              optimizer=keras.optimizers.Adadelta(),\n",
    "              metrics=['accuracy'])"
   ]
  },
  {
   "cell_type": "code",
   "execution_count": 37,
   "metadata": {},
   "outputs": [
    {
     "name": "stdout",
     "output_type": "stream",
     "text": [
      "Train on 12000 samples, validate on 10000 samples\n",
      "Epoch 1/3\n",
      "12000/12000 [==============================] - 39s 3ms/step - loss: 0.6299 - accuracy: 0.7977 - val_loss: 0.1614 - val_accuracy: 0.9547\n",
      "Epoch 2/3\n",
      "12000/12000 [==============================] - 38s 3ms/step - loss: 0.1991 - accuracy: 0.9410 - val_loss: 0.1067 - val_accuracy: 0.9689\n",
      "Epoch 3/3\n",
      "12000/12000 [==============================] - 36s 3ms/step - loss: 0.1402 - accuracy: 0.9556 - val_loss: 0.0787 - val_accuracy: 0.9740\n"
     ]
    },
    {
     "data": {
      "text/plain": [
       "<keras.callbacks.callbacks.History at 0x196e5664c50>"
      ]
     },
     "execution_count": 37,
     "metadata": {},
     "output_type": "execute_result"
    }
   ],
   "source": [
    "model.fit(x_train, y_train,\n",
    "          batch_size=batch_size,\n",
    "          epochs=epochs,\n",
    "          verbose=1,\n",
    "          validation_data=(x_test, y_test))"
   ]
  },
  {
   "cell_type": "code",
   "execution_count": 38,
   "metadata": {},
   "outputs": [
    {
     "name": "stdout",
     "output_type": "stream",
     "text": [
      "Test loss: 0.07873926379270851\n",
      "Test accuracy: 0.9739999771118164\n"
     ]
    }
   ],
   "source": [
    "from keras import models\n",
    "#if loaded_model:\n",
    "#    model = loaded_model\n",
    "score = model.evaluate(x_test, y_test, verbose=0)\n",
    "print('Test loss:', score[0])\n",
    "print('Test accuracy:', score[1])"
   ]
  },
  {
   "cell_type": "markdown",
   "metadata": {},
   "source": [
    "CNN Architecture 2"
   ]
  },
  {
   "cell_type": "code",
   "execution_count": 45,
   "metadata": {},
   "outputs": [],
   "source": [
    "model2 = Sequential()\n",
    "model2.add(Conv2D(32, kernel_size=(3, 3),\n",
    "                 activation='tanh',\n",
    "                 input_shape=input_shape))\n",
    "model2.add(Conv2D(64, (3, 3), activation='tanh'))\n",
    "model2.add(MaxPooling2D(pool_size=(2, 2)))\n",
    "model2.add(Dropout(0.5))\n",
    "model2.add(Flatten())\n",
    "model2.add(Dense(128, activation='tanh'))\n",
    "model2.add(Dropout(0.5))\n",
    "model2.add(Dense(num_classes, activation='softmax'))"
   ]
  },
  {
   "cell_type": "code",
   "execution_count": 48,
   "metadata": {
    "scrolled": true
   },
   "outputs": [
    {
     "name": "stdout",
     "output_type": "stream",
     "text": [
      "Train on 12000 samples, validate on 10000 samples\n",
      "Epoch 1/5\n",
      "12000/12000 [==============================] - 41s 3ms/step - loss: 0.0719 - accuracy: 0.9747 - val_loss: 0.0842 - val_accuracy: 0.9740\n",
      "Epoch 2/5\n",
      "12000/12000 [==============================] - 41s 3ms/step - loss: 0.0696 - accuracy: 0.9776 - val_loss: 0.0916 - val_accuracy: 0.9737\n",
      "Epoch 3/5\n",
      "12000/12000 [==============================] - 39s 3ms/step - loss: 0.0684 - accuracy: 0.9768 - val_loss: 0.0814 - val_accuracy: 0.9759\n",
      "Epoch 4/5\n",
      "12000/12000 [==============================] - 39s 3ms/step - loss: 0.0699 - accuracy: 0.9781 - val_loss: 0.0892 - val_accuracy: 0.9729\n",
      "Epoch 5/5\n",
      "12000/12000 [==============================] - 39s 3ms/step - loss: 0.0620 - accuracy: 0.9795 - val_loss: 0.0848 - val_accuracy: 0.9755\n",
      "Test loss: 0.08480998051823117\n",
      "Test accuracy: 0.9754999876022339\n"
     ]
    }
   ],
   "source": [
    "model2.compile(loss=keras.losses.categorical_crossentropy,\n",
    "              optimizer=\"nadam\",\n",
    "              metrics=['accuracy'])\n",
    "model2.fit(x_train, y_train,\n",
    "          batch_size=batch_size,\n",
    "          epochs=5,\n",
    "          verbose=1,\n",
    "          validation_data=(x_test, y_test))\n",
    "score_2 = model2.evaluate(x_test, y_test, verbose=0)\n",
    "\n",
    "print('Test loss:', score_2[0])\n",
    "print('Test accuracy:', score_2[1])"
   ]
  },
  {
   "cell_type": "code",
   "execution_count": null,
   "metadata": {},
   "outputs": [],
   "source": [
    "Changes I have made in CNN Architecture 2 is I have used optimizer= nadam Dropout =.5 epochs = 5. The  test accuracy and test loss is better for CNN Architecture 1 "
   ]
  }
 ],
 "metadata": {
  "kernelspec": {
   "display_name": "Python 3",
   "language": "python",
   "name": "python3"
  },
  "language_info": {
   "codemirror_mode": {
    "name": "ipython",
    "version": 3
   },
   "file_extension": ".py",
   "mimetype": "text/x-python",
   "name": "python",
   "nbconvert_exporter": "python",
   "pygments_lexer": "ipython3",
   "version": "3.7.3"
  }
 },
 "nbformat": 4,
 "nbformat_minor": 2
}
