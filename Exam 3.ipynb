{
 "cells": [
  {
   "cell_type": "markdown",
   "metadata": {},
   "source": [
    "##Using MLP Classifiers"
   ]
  },
  {
   "cell_type": "code",
   "execution_count": 1,
   "metadata": {},
   "outputs": [],
   "source": [
    "import numpy as np\n",
    "import pandas as pd"
   ]
  },
  {
   "cell_type": "code",
   "execution_count": 2,
   "metadata": {},
   "outputs": [
    {
     "data": {
      "text/html": [
       "<div>\n",
       "<style scoped>\n",
       "    .dataframe tbody tr th:only-of-type {\n",
       "        vertical-align: middle;\n",
       "    }\n",
       "\n",
       "    .dataframe tbody tr th {\n",
       "        vertical-align: top;\n",
       "    }\n",
       "\n",
       "    .dataframe thead th {\n",
       "        text-align: right;\n",
       "    }\n",
       "</style>\n",
       "<table border=\"1\" class=\"dataframe\">\n",
       "  <thead>\n",
       "    <tr style=\"text-align: right;\">\n",
       "      <th></th>\n",
       "      <th>longitude</th>\n",
       "      <th>latitude</th>\n",
       "      <th>housing_median_age</th>\n",
       "      <th>total_rooms</th>\n",
       "      <th>total_bedrooms</th>\n",
       "      <th>population</th>\n",
       "      <th>households</th>\n",
       "      <th>median_income</th>\n",
       "      <th>median_house_value</th>\n",
       "    </tr>\n",
       "  </thead>\n",
       "  <tbody>\n",
       "    <tr>\n",
       "      <th>count</th>\n",
       "      <td>20640.000000</td>\n",
       "      <td>20640.000000</td>\n",
       "      <td>20640.000000</td>\n",
       "      <td>20640.000000</td>\n",
       "      <td>20433.000000</td>\n",
       "      <td>20640.000000</td>\n",
       "      <td>20640.000000</td>\n",
       "      <td>20640.000000</td>\n",
       "      <td>20640.000000</td>\n",
       "    </tr>\n",
       "    <tr>\n",
       "      <th>mean</th>\n",
       "      <td>-119.569704</td>\n",
       "      <td>35.631861</td>\n",
       "      <td>28.639486</td>\n",
       "      <td>2635.763081</td>\n",
       "      <td>537.870553</td>\n",
       "      <td>1425.476744</td>\n",
       "      <td>499.539680</td>\n",
       "      <td>3.870671</td>\n",
       "      <td>206855.816909</td>\n",
       "    </tr>\n",
       "    <tr>\n",
       "      <th>std</th>\n",
       "      <td>2.003532</td>\n",
       "      <td>2.135952</td>\n",
       "      <td>12.585558</td>\n",
       "      <td>2181.615252</td>\n",
       "      <td>421.385070</td>\n",
       "      <td>1132.462122</td>\n",
       "      <td>382.329753</td>\n",
       "      <td>1.899822</td>\n",
       "      <td>115395.615874</td>\n",
       "    </tr>\n",
       "    <tr>\n",
       "      <th>min</th>\n",
       "      <td>-124.350000</td>\n",
       "      <td>32.540000</td>\n",
       "      <td>1.000000</td>\n",
       "      <td>2.000000</td>\n",
       "      <td>1.000000</td>\n",
       "      <td>3.000000</td>\n",
       "      <td>1.000000</td>\n",
       "      <td>0.499900</td>\n",
       "      <td>14999.000000</td>\n",
       "    </tr>\n",
       "    <tr>\n",
       "      <th>25%</th>\n",
       "      <td>-121.800000</td>\n",
       "      <td>33.930000</td>\n",
       "      <td>18.000000</td>\n",
       "      <td>1447.750000</td>\n",
       "      <td>296.000000</td>\n",
       "      <td>787.000000</td>\n",
       "      <td>280.000000</td>\n",
       "      <td>2.563400</td>\n",
       "      <td>119600.000000</td>\n",
       "    </tr>\n",
       "    <tr>\n",
       "      <th>50%</th>\n",
       "      <td>-118.490000</td>\n",
       "      <td>34.260000</td>\n",
       "      <td>29.000000</td>\n",
       "      <td>2127.000000</td>\n",
       "      <td>435.000000</td>\n",
       "      <td>1166.000000</td>\n",
       "      <td>409.000000</td>\n",
       "      <td>3.534800</td>\n",
       "      <td>179700.000000</td>\n",
       "    </tr>\n",
       "    <tr>\n",
       "      <th>75%</th>\n",
       "      <td>-118.010000</td>\n",
       "      <td>37.710000</td>\n",
       "      <td>37.000000</td>\n",
       "      <td>3148.000000</td>\n",
       "      <td>647.000000</td>\n",
       "      <td>1725.000000</td>\n",
       "      <td>605.000000</td>\n",
       "      <td>4.743250</td>\n",
       "      <td>264725.000000</td>\n",
       "    </tr>\n",
       "    <tr>\n",
       "      <th>max</th>\n",
       "      <td>-114.310000</td>\n",
       "      <td>41.950000</td>\n",
       "      <td>52.000000</td>\n",
       "      <td>39320.000000</td>\n",
       "      <td>6445.000000</td>\n",
       "      <td>35682.000000</td>\n",
       "      <td>6082.000000</td>\n",
       "      <td>15.000100</td>\n",
       "      <td>500001.000000</td>\n",
       "    </tr>\n",
       "  </tbody>\n",
       "</table>\n",
       "</div>"
      ],
      "text/plain": [
       "          longitude      latitude  housing_median_age   total_rooms  \\\n",
       "count  20640.000000  20640.000000        20640.000000  20640.000000   \n",
       "mean    -119.569704     35.631861           28.639486   2635.763081   \n",
       "std        2.003532      2.135952           12.585558   2181.615252   \n",
       "min     -124.350000     32.540000            1.000000      2.000000   \n",
       "25%     -121.800000     33.930000           18.000000   1447.750000   \n",
       "50%     -118.490000     34.260000           29.000000   2127.000000   \n",
       "75%     -118.010000     37.710000           37.000000   3148.000000   \n",
       "max     -114.310000     41.950000           52.000000  39320.000000   \n",
       "\n",
       "       total_bedrooms    population    households  median_income  \\\n",
       "count    20433.000000  20640.000000  20640.000000   20640.000000   \n",
       "mean       537.870553   1425.476744    499.539680       3.870671   \n",
       "std        421.385070   1132.462122    382.329753       1.899822   \n",
       "min          1.000000      3.000000      1.000000       0.499900   \n",
       "25%        296.000000    787.000000    280.000000       2.563400   \n",
       "50%        435.000000   1166.000000    409.000000       3.534800   \n",
       "75%        647.000000   1725.000000    605.000000       4.743250   \n",
       "max       6445.000000  35682.000000   6082.000000      15.000100   \n",
       "\n",
       "       median_house_value  \n",
       "count        20640.000000  \n",
       "mean        206855.816909  \n",
       "std         115395.615874  \n",
       "min          14999.000000  \n",
       "25%         119600.000000  \n",
       "50%         179700.000000  \n",
       "75%         264725.000000  \n",
       "max         500001.000000  "
      ]
     },
     "execution_count": 2,
     "metadata": {},
     "output_type": "execute_result"
    }
   ],
   "source": [
    "housing = pd.read_csv(\"housing.csv\")\n",
    "housing.head()\n",
    "housing.describe()"
   ]
  },
  {
   "cell_type": "code",
   "execution_count": 3,
   "metadata": {},
   "outputs": [],
   "source": [
    "housing.dropna(axis=0, inplace=True)"
   ]
  },
  {
   "cell_type": "code",
   "execution_count": 4,
   "metadata": {},
   "outputs": [
    {
     "data": {
      "text/plain": [
       "<1H OCEAN     9034\n",
       "INLAND        6496\n",
       "NEAR OCEAN    2628\n",
       "NEAR BAY      2270\n",
       "ISLAND           5\n",
       "Name: ocean_proximity, dtype: int64"
      ]
     },
     "execution_count": 4,
     "metadata": {},
     "output_type": "execute_result"
    }
   ],
   "source": [
    "#Set the training and test data sets\n",
    "housing_X = housing.drop(\"ocean_proximity\", axis=1) # drop labels \n",
    "#Select the label\n",
    "housing_target = housing[\"ocean_proximity\"]\n",
    "housing_target.value_counts()"
   ]
  },
  {
   "cell_type": "markdown",
   "metadata": {},
   "source": [
    "### Standardize the data"
   ]
  },
  {
   "cell_type": "code",
   "execution_count": 5,
   "metadata": {},
   "outputs": [],
   "source": [
    "from sklearn.preprocessing import StandardScaler\n",
    "\n",
    "scaler = StandardScaler()\n",
    "\n",
    "housing_X_std = scaler.fit_transform(housing_X)"
   ]
  },
  {
   "cell_type": "markdown",
   "metadata": {},
   "source": [
    "# Split data (train/test)"
   ]
  },
  {
   "cell_type": "code",
   "execution_count": 6,
   "metadata": {},
   "outputs": [],
   "source": [
    "from sklearn.model_selection import train_test_split\n",
    "\n",
    "train_x, test_x, train_y, test_y = train_test_split(housing_X_std, housing_target, test_size=0.4)"
   ]
  },
  {
   "cell_type": "markdown",
   "metadata": {},
   "source": [
    "# Multiclass classification\n"
   ]
  },
  {
   "cell_type": "code",
   "execution_count": 7,
   "metadata": {},
   "outputs": [
    {
     "name": "stderr",
     "output_type": "stream",
     "text": [
      "C:\\Users\\RajKumar\\Anaconda3\\lib\\site-packages\\sklearn\\neural_network\\multilayer_perceptron.py:566: ConvergenceWarning: Stochastic Optimizer: Maximum iterations (200) reached and the optimization hasn't converged yet.\n",
      "  % self.max_iter, ConvergenceWarning)\n"
     ]
    },
    {
     "data": {
      "text/plain": [
       "MLPClassifier(activation='relu', alpha=0.0001, batch_size='auto', beta_1=0.9,\n",
       "              beta_2=0.999, early_stopping=False, epsilon=1e-08,\n",
       "              hidden_layer_sizes=(40, 20, 10), learning_rate='constant',\n",
       "              learning_rate_init=0.001, max_iter=200, momentum=0.9,\n",
       "              n_iter_no_change=10, nesterovs_momentum=True, power_t=0.5,\n",
       "              random_state=None, shuffle=True, solver='adam', tol=0.0001,\n",
       "              validation_fraction=0.1, verbose=False, warm_start=False)"
      ]
     },
     "execution_count": 7,
     "metadata": {},
     "output_type": "execute_result"
    }
   ],
   "source": [
    "from sklearn.neural_network import MLPClassifier\n",
    "\n",
    "mlp_clf = MLPClassifier(hidden_layer_sizes=(40,20,10,))\n",
    "mlp_clf.fit(train_x, train_y)"
   ]
  },
  {
   "cell_type": "markdown",
   "metadata": {},
   "source": [
    "# Classification Matrix"
   ]
  },
  {
   "cell_type": "code",
   "execution_count": 8,
   "metadata": {},
   "outputs": [],
   "source": [
    "test_y_pred = mlp_clf.predict(test_x)"
   ]
  },
  {
   "cell_type": "code",
   "execution_count": 9,
   "metadata": {},
   "outputs": [
    {
     "data": {
      "text/plain": [
       "array([[3393,   49,    0,   15,  145],\n",
       "       [  98, 2509,    0,   14,    0],\n",
       "       [   0,    0,    1,    0,    0],\n",
       "       [  43,    4,    0,  793,   35],\n",
       "       [ 172,    0,    0,   11,  892]], dtype=int64)"
      ]
     },
     "execution_count": 9,
     "metadata": {},
     "output_type": "execute_result"
    }
   ],
   "source": [
    "from sklearn.metrics import confusion_matrix\n",
    "\n",
    "confusion_matrix(test_y, test_y_pred)"
   ]
  },
  {
   "cell_type": "code",
   "execution_count": 10,
   "metadata": {},
   "outputs": [
    {
     "name": "stdout",
     "output_type": "stream",
     "text": [
      "0.9283092733056031\n"
     ]
    }
   ],
   "source": [
    "from sklearn.metrics import accuracy_score\n",
    "\n",
    "print(accuracy_score(test_y, test_y_pred))"
   ]
  },
  {
   "cell_type": "markdown",
   "metadata": {},
   "source": [
    "## Solver (Optimizer)"
   ]
  },
  {
   "cell_type": "code",
   "execution_count": 11,
   "metadata": {},
   "outputs": [
    {
     "data": {
      "text/plain": [
       "MLPClassifier(activation='tanh', alpha=0.0001, batch_size='auto', beta_1=0.9,\n",
       "              beta_2=0.999, early_stopping=False, epsilon=1e-08,\n",
       "              hidden_layer_sizes=(40, 20, 10), learning_rate='constant',\n",
       "              learning_rate_init=0.001, max_iter=1000, momentum=0.9,\n",
       "              n_iter_no_change=10, nesterovs_momentum=True, power_t=0.5,\n",
       "              random_state=None, shuffle=True, solver='sgd', tol=0.0001,\n",
       "              validation_fraction=0.1, verbose=False, warm_start=False)"
      ]
     },
     "execution_count": 11,
     "metadata": {},
     "output_type": "execute_result"
    }
   ],
   "source": [
    "#Let's use Stochastic Gradient Descent optimizer\n",
    "\n",
    "dnn_clf = MLPClassifier(hidden_layer_sizes=(40,20,10),\n",
    "                       max_iter=1000,\n",
    "                       activation = 'tanh',\n",
    "                       solver='sgd')\n",
    "\n",
    "dnn_clf.fit(train_x, train_y)"
   ]
  },
  {
   "cell_type": "code",
   "execution_count": 12,
   "metadata": {},
   "outputs": [
    {
     "name": "stdout",
     "output_type": "stream",
     "text": [
      "0.9385857597259604\n"
     ]
    }
   ],
   "source": [
    "test_y_pred = dnn_clf.predict(test_x)\n",
    "\n",
    "print(accuracy_score(test_y, test_y_pred))"
   ]
  },
  {
   "cell_type": "markdown",
   "metadata": {},
   "source": [
    "##Using Keras"
   ]
  },
  {
   "cell_type": "code",
   "execution_count": 13,
   "metadata": {},
   "outputs": [
    {
     "name": "stderr",
     "output_type": "stream",
     "text": [
      "WARNING:root:Limited tf.compat.v2.summary API due to missing TensorBoard installation.\n",
      "WARNING:root:Limited tf.compat.v2.summary API due to missing TensorBoard installation.\n",
      "WARNING:root:Limited tf.compat.v2.summary API due to missing TensorBoard installation.\n",
      "WARNING:root:Limited tf.compat.v2.summary API due to missing TensorBoard installation.\n",
      "WARNING:root:Limited tf.compat.v2.summary API due to missing TensorBoard installation.\n",
      "WARNING:root:Limited tf.compat.v2.summary API due to missing TensorBoard installation.\n",
      "WARNING:root:Limited tf.summary API due to missing TensorBoard installation.\n"
     ]
    }
   ],
   "source": [
    "import numpy as np\n",
    "import os\n",
    "import pandas as pd\n",
    "import tensorflow as tf"
   ]
  },
  {
   "cell_type": "code",
   "execution_count": 18,
   "metadata": {},
   "outputs": [
    {
     "data": {
      "text/html": [
       "<div>\n",
       "<style scoped>\n",
       "    .dataframe tbody tr th:only-of-type {\n",
       "        vertical-align: middle;\n",
       "    }\n",
       "\n",
       "    .dataframe tbody tr th {\n",
       "        vertical-align: top;\n",
       "    }\n",
       "\n",
       "    .dataframe thead th {\n",
       "        text-align: right;\n",
       "    }\n",
       "</style>\n",
       "<table border=\"1\" class=\"dataframe\">\n",
       "  <thead>\n",
       "    <tr style=\"text-align: right;\">\n",
       "      <th></th>\n",
       "      <th>longitude</th>\n",
       "      <th>latitude</th>\n",
       "      <th>housing_median_age</th>\n",
       "      <th>total_rooms</th>\n",
       "      <th>total_bedrooms</th>\n",
       "      <th>population</th>\n",
       "      <th>households</th>\n",
       "      <th>median_income</th>\n",
       "      <th>median_house_value</th>\n",
       "    </tr>\n",
       "  </thead>\n",
       "  <tbody>\n",
       "    <tr>\n",
       "      <th>count</th>\n",
       "      <td>20433.000000</td>\n",
       "      <td>20433.000000</td>\n",
       "      <td>20433.000000</td>\n",
       "      <td>20433.000000</td>\n",
       "      <td>20433.000000</td>\n",
       "      <td>20433.000000</td>\n",
       "      <td>20433.000000</td>\n",
       "      <td>20433.000000</td>\n",
       "      <td>20433.000000</td>\n",
       "    </tr>\n",
       "    <tr>\n",
       "      <th>mean</th>\n",
       "      <td>-119.570689</td>\n",
       "      <td>35.633221</td>\n",
       "      <td>28.633094</td>\n",
       "      <td>2636.504233</td>\n",
       "      <td>537.870553</td>\n",
       "      <td>1424.946949</td>\n",
       "      <td>499.433465</td>\n",
       "      <td>3.871162</td>\n",
       "      <td>206864.413155</td>\n",
       "    </tr>\n",
       "    <tr>\n",
       "      <th>std</th>\n",
       "      <td>2.003578</td>\n",
       "      <td>2.136348</td>\n",
       "      <td>12.591805</td>\n",
       "      <td>2185.269567</td>\n",
       "      <td>421.385070</td>\n",
       "      <td>1133.208490</td>\n",
       "      <td>382.299226</td>\n",
       "      <td>1.899291</td>\n",
       "      <td>115435.667099</td>\n",
       "    </tr>\n",
       "    <tr>\n",
       "      <th>min</th>\n",
       "      <td>-124.350000</td>\n",
       "      <td>32.540000</td>\n",
       "      <td>1.000000</td>\n",
       "      <td>2.000000</td>\n",
       "      <td>1.000000</td>\n",
       "      <td>3.000000</td>\n",
       "      <td>1.000000</td>\n",
       "      <td>0.499900</td>\n",
       "      <td>14999.000000</td>\n",
       "    </tr>\n",
       "    <tr>\n",
       "      <th>25%</th>\n",
       "      <td>-121.800000</td>\n",
       "      <td>33.930000</td>\n",
       "      <td>18.000000</td>\n",
       "      <td>1450.000000</td>\n",
       "      <td>296.000000</td>\n",
       "      <td>787.000000</td>\n",
       "      <td>280.000000</td>\n",
       "      <td>2.563700</td>\n",
       "      <td>119500.000000</td>\n",
       "    </tr>\n",
       "    <tr>\n",
       "      <th>50%</th>\n",
       "      <td>-118.490000</td>\n",
       "      <td>34.260000</td>\n",
       "      <td>29.000000</td>\n",
       "      <td>2127.000000</td>\n",
       "      <td>435.000000</td>\n",
       "      <td>1166.000000</td>\n",
       "      <td>409.000000</td>\n",
       "      <td>3.536500</td>\n",
       "      <td>179700.000000</td>\n",
       "    </tr>\n",
       "    <tr>\n",
       "      <th>75%</th>\n",
       "      <td>-118.010000</td>\n",
       "      <td>37.720000</td>\n",
       "      <td>37.000000</td>\n",
       "      <td>3143.000000</td>\n",
       "      <td>647.000000</td>\n",
       "      <td>1722.000000</td>\n",
       "      <td>604.000000</td>\n",
       "      <td>4.744000</td>\n",
       "      <td>264700.000000</td>\n",
       "    </tr>\n",
       "    <tr>\n",
       "      <th>max</th>\n",
       "      <td>-114.310000</td>\n",
       "      <td>41.950000</td>\n",
       "      <td>52.000000</td>\n",
       "      <td>39320.000000</td>\n",
       "      <td>6445.000000</td>\n",
       "      <td>35682.000000</td>\n",
       "      <td>6082.000000</td>\n",
       "      <td>15.000100</td>\n",
       "      <td>500001.000000</td>\n",
       "    </tr>\n",
       "  </tbody>\n",
       "</table>\n",
       "</div>"
      ],
      "text/plain": [
       "          longitude      latitude  housing_median_age   total_rooms  \\\n",
       "count  20433.000000  20433.000000        20433.000000  20433.000000   \n",
       "mean    -119.570689     35.633221           28.633094   2636.504233   \n",
       "std        2.003578      2.136348           12.591805   2185.269567   \n",
       "min     -124.350000     32.540000            1.000000      2.000000   \n",
       "25%     -121.800000     33.930000           18.000000   1450.000000   \n",
       "50%     -118.490000     34.260000           29.000000   2127.000000   \n",
       "75%     -118.010000     37.720000           37.000000   3143.000000   \n",
       "max     -114.310000     41.950000           52.000000  39320.000000   \n",
       "\n",
       "       total_bedrooms    population    households  median_income  \\\n",
       "count    20433.000000  20433.000000  20433.000000   20433.000000   \n",
       "mean       537.870553   1424.946949    499.433465       3.871162   \n",
       "std        421.385070   1133.208490    382.299226       1.899291   \n",
       "min          1.000000      3.000000      1.000000       0.499900   \n",
       "25%        296.000000    787.000000    280.000000       2.563700   \n",
       "50%        435.000000   1166.000000    409.000000       3.536500   \n",
       "75%        647.000000   1722.000000    604.000000       4.744000   \n",
       "max       6445.000000  35682.000000   6082.000000      15.000100   \n",
       "\n",
       "       median_house_value  \n",
       "count        20433.000000  \n",
       "mean        206864.413155  \n",
       "std         115435.667099  \n",
       "min          14999.000000  \n",
       "25%         119500.000000  \n",
       "50%         179700.000000  \n",
       "75%         264700.000000  \n",
       "max         500001.000000  "
      ]
     },
     "execution_count": 18,
     "metadata": {},
     "output_type": "execute_result"
    }
   ],
   "source": [
    "#Drop the missing values\n",
    "housing.dropna(axis=0, inplace=True)\n",
    "\n",
    "# Let's also reset the index\n",
    "housing.reset_index(inplace=True, drop=True)\n",
    "\n",
    "\n",
    "housing.describe()"
   ]
  },
  {
   "cell_type": "code",
   "execution_count": 19,
   "metadata": {},
   "outputs": [],
   "source": [
    "#Set the training and test data sets\n",
    "housing_num = housing.drop(\"ocean_proximity\", axis=1) # drop labels \n",
    "\n",
    "#Select the label\n",
    "housing_target = housing[[\"ocean_proximity\"]]"
   ]
  },
  {
   "cell_type": "code",
   "execution_count": 20,
   "metadata": {},
   "outputs": [],
   "source": [
    "from sklearn.preprocessing import StandardScaler\n",
    "\n",
    "scaler = StandardScaler()\n",
    "\n",
    "housing_num_std = scaler.fit_transform(housing_num)"
   ]
  },
  {
   "cell_type": "code",
   "execution_count": 21,
   "metadata": {},
   "outputs": [
    {
     "data": {
      "text/plain": [
       "array([[3.],\n",
       "       [3.],\n",
       "       [3.],\n",
       "       [3.],\n",
       "       [3.],\n",
       "       [3.],\n",
       "       [3.],\n",
       "       [3.],\n",
       "       [3.],\n",
       "       [3.]])"
      ]
     },
     "execution_count": 21,
     "metadata": {},
     "output_type": "execute_result"
    }
   ],
   "source": [
    "from sklearn.preprocessing import OrdinalEncoder\n",
    "\n",
    "ordinal_encoder = OrdinalEncoder()\n",
    "\n",
    "housing_labels_ord = ordinal_encoder.fit_transform(housing_target)\n",
    "\n",
    "housing_labels_ord[:10]"
   ]
  },
  {
   "cell_type": "code",
   "execution_count": 22,
   "metadata": {},
   "outputs": [
    {
     "data": {
      "text/plain": [
       "dtype('float64')"
      ]
     },
     "execution_count": 22,
     "metadata": {},
     "output_type": "execute_result"
    }
   ],
   "source": [
    "# Data type is float. It needs to be integer\n",
    "housing_labels_ord.dtype"
   ]
  },
  {
   "cell_type": "code",
   "execution_count": 23,
   "metadata": {},
   "outputs": [
    {
     "data": {
      "text/plain": [
       "dtype('int32')"
      ]
     },
     "execution_count": 23,
     "metadata": {},
     "output_type": "execute_result"
    }
   ],
   "source": [
    "#Convert to integer\n",
    "\n",
    "housing_labels_int = housing_labels_ord.astype(int)\n",
    "\n",
    "housing_labels_int.dtype"
   ]
  },
  {
   "cell_type": "code",
   "execution_count": 24,
   "metadata": {},
   "outputs": [],
   "source": [
    "from sklearn.model_selection import train_test_split\n",
    "\n",
    "train_x, test_x, train_y, test_y = train_test_split(housing_num_std, housing_labels_int, test_size=0.4)"
   ]
  },
  {
   "cell_type": "code",
   "execution_count": 25,
   "metadata": {},
   "outputs": [
    {
     "name": "stderr",
     "output_type": "stream",
     "text": [
      "Using TensorFlow backend.\n"
     ]
    }
   ],
   "source": [
    "import keras\n",
    "from keras.models import Sequential\n",
    "from keras.layers import Dense\n",
    "from keras.layers import Dropout\n",
    "\n",
    "# fix random seed for reproducibility\n",
    "np.random.seed(42)"
   ]
  },
  {
   "cell_type": "code",
   "execution_count": 26,
   "metadata": {},
   "outputs": [],
   "source": [
    "#Define the model: for multi-class\n",
    "\n",
    "model = Sequential()\n",
    "\n",
    "model.add(Dense(40, input_dim=9, activation='relu'))\n",
    "model.add(Dense(20, activation='relu'))\n",
    "model.add(Dense(10, activation='relu'))\n",
    "\n",
    "#final layer: there has to be 5 nodes with softmax (because we have 5 categories)\n",
    "model.add(Dense(5, activation='softmax'))"
   ]
  },
  {
   "cell_type": "code",
   "execution_count": 27,
   "metadata": {},
   "outputs": [],
   "source": [
    "#Compile Model\n",
    "#Optimizer:\n",
    "sgd = keras.optimizers.SGD(lr=0.05)\n",
    "\n",
    "model.compile(loss='sparse_categorical_crossentropy', optimizer=sgd, metrics=['accuracy'])"
   ]
  },
  {
   "cell_type": "code",
   "execution_count": 28,
   "metadata": {},
   "outputs": [
    {
     "name": "stdout",
     "output_type": "stream",
     "text": [
      "Epoch 1/50\n",
      "12259/12259 [==============================] - 2s 159us/step - loss: 1.1699 - accuracy: 0.5667\n",
      "Epoch 2/50\n",
      "12259/12259 [==============================] - 0s 23us/step - loss: 0.8076 - accuracy: 0.7154 0s - loss: 0.9042 - accura\n",
      "Epoch 3/50\n",
      "12259/12259 [==============================] - 0s 26us/step - loss: 0.6663 - accuracy: 0.7648\n",
      "Epoch 4/50\n",
      "12259/12259 [==============================] - 0s 28us/step - loss: 0.5902 - accuracy: 0.7798\n",
      "Epoch 5/50\n",
      "12259/12259 [==============================] - 0s 22us/step - loss: 0.5227 - accuracy: 0.7915\n",
      "Epoch 6/50\n",
      "12259/12259 [==============================] - 0s 27us/step - loss: 0.4664 - accuracy: 0.8178\n",
      "Epoch 7/50\n",
      "12259/12259 [==============================] - 0s 30us/step - loss: 0.4166 - accuracy: 0.8385\n",
      "Epoch 8/50\n",
      "12259/12259 [==============================] - 0s 21us/step - loss: 0.3929 - accuracy: 0.8440\n",
      "Epoch 9/50\n",
      "12259/12259 [==============================] - 0s 27us/step - loss: 0.3779 - accuracy: 0.8449\n",
      "Epoch 10/50\n",
      "12259/12259 [==============================] - 0s 26us/step - loss: 0.3667 - accuracy: 0.8522\n",
      "Epoch 11/50\n",
      "12259/12259 [==============================] - 0s 27us/step - loss: 0.3561 - accuracy: 0.8571\n",
      "Epoch 12/50\n",
      "12259/12259 [==============================] - 0s 23us/step - loss: 0.3554 - accuracy: 0.8574\n",
      "Epoch 13/50\n",
      "12259/12259 [==============================] - 0s 23us/step - loss: 0.3455 - accuracy: 0.8617\n",
      "Epoch 14/50\n",
      "12259/12259 [==============================] - 0s 23us/step - loss: 0.3320 - accuracy: 0.8664\n",
      "Epoch 15/50\n",
      "12259/12259 [==============================] - 0s 23us/step - loss: 0.3282 - accuracy: 0.8687\n",
      "Epoch 16/50\n",
      "12259/12259 [==============================] - 0s 24us/step - loss: 0.3224 - accuracy: 0.8677\n",
      "Epoch 17/50\n",
      "12259/12259 [==============================] - 0s 23us/step - loss: 0.3126 - accuracy: 0.8746\n",
      "Epoch 18/50\n",
      "12259/12259 [==============================] - 0s 22us/step - loss: 0.3083 - accuracy: 0.8758\n",
      "Epoch 19/50\n",
      "12259/12259 [==============================] - 0s 23us/step - loss: 0.3019 - accuracy: 0.8803\n",
      "Epoch 20/50\n",
      "12259/12259 [==============================] - 0s 26us/step - loss: 0.3036 - accuracy: 0.8763\n",
      "Epoch 21/50\n",
      "12259/12259 [==============================] - 0s 24us/step - loss: 0.3001 - accuracy: 0.8804\n",
      "Epoch 22/50\n",
      "12259/12259 [==============================] - 0s 32us/step - loss: 0.2949 - accuracy: 0.8803\n",
      "Epoch 23/50\n",
      "12259/12259 [==============================] - 0s 27us/step - loss: 0.2889 - accuracy: 0.8839\n",
      "Epoch 24/50\n",
      "12259/12259 [==============================] - 0s 24us/step - loss: 0.2855 - accuracy: 0.8865\n",
      "Epoch 25/50\n",
      "12259/12259 [==============================] - 0s 33us/step - loss: 0.2839 - accuracy: 0.8848\n",
      "Epoch 26/50\n",
      "12259/12259 [==============================] - 0s 25us/step - loss: 0.2772 - accuracy: 0.8878\n",
      "Epoch 27/50\n",
      "12259/12259 [==============================] - 0s 21us/step - loss: 0.2728 - accuracy: 0.8900\n",
      "Epoch 28/50\n",
      "12259/12259 [==============================] - 0s 20us/step - loss: 0.2679 - accuracy: 0.8900\n",
      "Epoch 29/50\n",
      "12259/12259 [==============================] - 0s 21us/step - loss: 0.2650 - accuracy: 0.8907\n",
      "Epoch 30/50\n",
      "12259/12259 [==============================] - 0s 20us/step - loss: 0.2648 - accuracy: 0.8935\n",
      "Epoch 31/50\n",
      "12259/12259 [==============================] - 0s 21us/step - loss: 0.2637 - accuracy: 0.8940\n",
      "Epoch 32/50\n",
      "12259/12259 [==============================] - 0s 24us/step - loss: 0.2573 - accuracy: 0.8951\n",
      "Epoch 33/50\n",
      "12259/12259 [==============================] - 0s 18us/step - loss: 0.2525 - accuracy: 0.8974\n",
      "Epoch 34/50\n",
      "12259/12259 [==============================] - 0s 20us/step - loss: 0.2522 - accuracy: 0.8996\n",
      "Epoch 35/50\n",
      "12259/12259 [==============================] - 0s 19us/step - loss: 0.2533 - accuracy: 0.8988\n",
      "Epoch 36/50\n",
      "12259/12259 [==============================] - 0s 19us/step - loss: 0.2502 - accuracy: 0.8992\n",
      "Epoch 37/50\n",
      "12259/12259 [==============================] - 0s 18us/step - loss: 0.2436 - accuracy: 0.9004\n",
      "Epoch 38/50\n",
      "12259/12259 [==============================] - 0s 19us/step - loss: 0.2401 - accuracy: 0.9044\n",
      "Epoch 39/50\n",
      "12259/12259 [==============================] - 0s 19us/step - loss: 0.2399 - accuracy: 0.9037\n",
      "Epoch 40/50\n",
      "12259/12259 [==============================] - 0s 17us/step - loss: 0.2410 - accuracy: 0.9033\n",
      "Epoch 41/50\n",
      "12259/12259 [==============================] - 0s 18us/step - loss: 0.2333 - accuracy: 0.9028\n",
      "Epoch 42/50\n",
      "12259/12259 [==============================] - 0s 19us/step - loss: 0.2299 - accuracy: 0.9070\n",
      "Epoch 43/50\n",
      "12259/12259 [==============================] - 0s 21us/step - loss: 0.2324 - accuracy: 0.9073\n",
      "Epoch 44/50\n",
      "12259/12259 [==============================] - 0s 25us/step - loss: 0.2269 - accuracy: 0.9090\n",
      "Epoch 45/50\n",
      "12259/12259 [==============================] - 0s 21us/step - loss: 0.2272 - accuracy: 0.9079\n",
      "Epoch 46/50\n",
      "12259/12259 [==============================] - 0s 31us/step - loss: 0.2261 - accuracy: 0.9079\n",
      "Epoch 47/50\n",
      "12259/12259 [==============================] - 0s 25us/step - loss: 0.2253 - accuracy: 0.9090\n",
      "Epoch 48/50\n",
      "12259/12259 [==============================] - 0s 18us/step - loss: 0.2222 - accuracy: 0.9099\n",
      "Epoch 49/50\n",
      "12259/12259 [==============================] - 0s 17us/step - loss: 0.2189 - accuracy: 0.9100\n",
      "Epoch 50/50\n",
      "12259/12259 [==============================] - 0s 24us/step - loss: 0.2169 - accuracy: 0.9107\n"
     ]
    },
    {
     "data": {
      "text/plain": [
       "<keras.callbacks.callbacks.History at 0x1a01b12fe80>"
      ]
     },
     "execution_count": 28,
     "metadata": {},
     "output_type": "execute_result"
    }
   ],
   "source": [
    "model.fit(train_x, train_y, epochs=50, batch_size=100)"
   ]
  },
  {
   "cell_type": "code",
   "execution_count": 29,
   "metadata": {},
   "outputs": [
    {
     "name": "stdout",
     "output_type": "stream",
     "text": [
      "8174/8174 [==============================] - 0s 41us/step\n",
      "\n",
      "accuracy: 91.00%\n"
     ]
    }
   ],
   "source": [
    "# evaluate the model\n",
    "\n",
    "scores = model.evaluate(test_x, test_y)\n",
    "print(\"\\n%s: %.2f%%\" % (model.metrics_names[1], scores[1]*100))"
   ]
  },
  {
   "cell_type": "markdown",
   "metadata": {},
   "source": [
    "# Optimizers, Learning rate, Dropout, Initialization & Activation functions to improve the accuracy"
   ]
  },
  {
   "cell_type": "code",
   "execution_count": 30,
   "metadata": {},
   "outputs": [],
   "source": [
    "#Define the model: for multi-class\n",
    "\n",
    "\n",
    "#Set the learning rate:\n",
    "lr=0.001\n",
    "\n",
    "\n",
    "#Available optimizers:\n",
    "adagrad = keras.optimizers.Adagrad(lr=lr, decay=0.0)\n",
    "sgd = keras.optimizers.SGD(lr=lr, momentum=0.0, decay=0.0, nesterov=False)\n",
    "rmsprop = keras.optimizers.RMSprop(lr=lr, rho=0.9, decay=0.0)\n",
    "adam = keras.optimizers.Adam(lr=lr, beta_1=0.9, beta_2=0.999, decay=0.0, amsgrad=False)\n",
    "nesterov_adam = keras.optimizers.Nadam(lr=lr, beta_1=0.9, beta_2=0.999, schedule_decay=0.004)\n",
    "\n",
    "#Initializations:\n",
    "xavier = keras.initializers.glorot_normal(seed=None)\n",
    "he = keras.initializers.he_normal(seed=None)\n",
    "\n",
    "\n",
    " \n",
    "activation = 'relu'\n",
    "\n",
    "\n",
    "\n",
    "\n",
    "#See the droput layers below:\n",
    "model = Sequential()\n",
    "\n",
    "model.add(Dense(40, input_dim=9, activation=activation, kernel_initializer=xavier))\n",
    "\n",
    "model.add(Dropout(0.2))\n",
    "\n",
    "model.add(Dense(20, activation=activation, kernel_initializer=xavier))\n",
    "\n",
    "model.add(Dropout(0.2))\n",
    "\n",
    "model.add(Dense(10, activation=activation, kernel_initializer=xavier))\n",
    "\n",
    "#final layer: there has to be 5 nodes with softmax (because we have 5 categories)\n",
    "model.add(Dense(5, activation='softmax'))\n",
    "\n",
    "\n",
    "\n",
    "#Compile\"\n",
    "model.compile(loss='sparse_categorical_crossentropy', \n",
    "              optimizer=nesterov_adam, metrics=['accuracy'])"
   ]
  },
  {
   "cell_type": "code",
   "execution_count": 31,
   "metadata": {},
   "outputs": [
    {
     "name": "stdout",
     "output_type": "stream",
     "text": [
      "Epoch 1/50\n",
      "12259/12259 [==============================] - 2s 174us/step - loss: 1.2912 - accuracy: 0.5173\n",
      "Epoch 2/50\n",
      "12259/12259 [==============================] - 0s 29us/step - loss: 0.9101 - accuracy: 0.6543\n",
      "Epoch 3/50\n",
      "12259/12259 [==============================] - 0s 28us/step - loss: 0.7541 - accuracy: 0.7200\n",
      "Epoch 4/50\n",
      "12259/12259 [==============================] - 0s 27us/step - loss: 0.6861 - accuracy: 0.7425\n",
      "Epoch 5/50\n",
      "12259/12259 [==============================] - 0s 30us/step - loss: 0.6383 - accuracy: 0.7544\n",
      "Epoch 6/50\n",
      "12259/12259 [==============================] - 0s 28us/step - loss: 0.5983 - accuracy: 0.7622 0s - loss: 0.6036 - accura\n",
      "Epoch 7/50\n",
      "12259/12259 [==============================] - 0s 28us/step - loss: 0.5687 - accuracy: 0.7722\n",
      "Epoch 8/50\n",
      "12259/12259 [==============================] - 0s 29us/step - loss: 0.5413 - accuracy: 0.7824\n",
      "Epoch 9/50\n",
      "12259/12259 [==============================] - 0s 33us/step - loss: 0.5144 - accuracy: 0.7933\n",
      "Epoch 10/50\n",
      "12259/12259 [==============================] - 0s 31us/step - loss: 0.4924 - accuracy: 0.8005\n",
      "Epoch 11/50\n",
      "12259/12259 [==============================] - 0s 38us/step - loss: 0.4646 - accuracy: 0.8101\n",
      "Epoch 12/50\n",
      "12259/12259 [==============================] - 0s 38us/step - loss: 0.4487 - accuracy: 0.8189\n",
      "Epoch 13/50\n",
      "12259/12259 [==============================] - 0s 32us/step - loss: 0.4343 - accuracy: 0.8240\n",
      "Epoch 14/50\n",
      "12259/12259 [==============================] - 0s 28us/step - loss: 0.4222 - accuracy: 0.8249\n",
      "Epoch 15/50\n",
      "12259/12259 [==============================] - 0s 28us/step - loss: 0.4109 - accuracy: 0.8360\n",
      "Epoch 16/50\n",
      "12259/12259 [==============================] - 0s 29us/step - loss: 0.4045 - accuracy: 0.8389\n",
      "Epoch 17/50\n",
      "12259/12259 [==============================] - 0s 30us/step - loss: 0.3979 - accuracy: 0.8399\n",
      "Epoch 18/50\n",
      "12259/12259 [==============================] - 0s 32us/step - loss: 0.3864 - accuracy: 0.8445\n",
      "Epoch 19/50\n",
      "12259/12259 [==============================] - 0s 29us/step - loss: 0.3762 - accuracy: 0.8484\n",
      "Epoch 20/50\n",
      "12259/12259 [==============================] - 0s 36us/step - loss: 0.3710 - accuracy: 0.8493\n",
      "Epoch 21/50\n",
      "12259/12259 [==============================] - 0s 28us/step - loss: 0.3665 - accuracy: 0.8513\n",
      "Epoch 22/50\n",
      "12259/12259 [==============================] - 0s 30us/step - loss: 0.3626 - accuracy: 0.8551\n",
      "Epoch 23/50\n",
      "12259/12259 [==============================] - 0s 27us/step - loss: 0.3599 - accuracy: 0.8559\n",
      "Epoch 24/50\n",
      "12259/12259 [==============================] - 0s 29us/step - loss: 0.3557 - accuracy: 0.8580\n",
      "Epoch 25/50\n",
      "12259/12259 [==============================] - 0s 29us/step - loss: 0.3493 - accuracy: 0.8586\n",
      "Epoch 26/50\n",
      "12259/12259 [==============================] - 0s 31us/step - loss: 0.3420 - accuracy: 0.8620\n",
      "Epoch 27/50\n",
      "12259/12259 [==============================] - 0s 37us/step - loss: 0.3419 - accuracy: 0.8618\n",
      "Epoch 28/50\n",
      "12259/12259 [==============================] - 1s 48us/step - loss: 0.3349 - accuracy: 0.8632\n",
      "Epoch 29/50\n",
      "12259/12259 [==============================] - 0s 28us/step - loss: 0.3257 - accuracy: 0.8683\n",
      "Epoch 30/50\n",
      "12259/12259 [==============================] - 0s 29us/step - loss: 0.3274 - accuracy: 0.8697\n",
      "Epoch 31/50\n",
      "12259/12259 [==============================] - 0s 29us/step - loss: 0.3220 - accuracy: 0.8696\n",
      "Epoch 32/50\n",
      "12259/12259 [==============================] - 0s 31us/step - loss: 0.3160 - accuracy: 0.8737\n",
      "Epoch 33/50\n",
      "12259/12259 [==============================] - 0s 31us/step - loss: 0.3194 - accuracy: 0.8700\n",
      "Epoch 34/50\n",
      "12259/12259 [==============================] - 0s 39us/step - loss: 0.3106 - accuracy: 0.8737\n",
      "Epoch 35/50\n",
      "12259/12259 [==============================] - 0s 34us/step - loss: 0.3045 - accuracy: 0.8751\n",
      "Epoch 36/50\n",
      "12259/12259 [==============================] - 0s 31us/step - loss: 0.3012 - accuracy: 0.8763\n",
      "Epoch 37/50\n",
      "12259/12259 [==============================] - 0s 30us/step - loss: 0.3051 - accuracy: 0.8783\n",
      "Epoch 38/50\n",
      "12259/12259 [==============================] - 0s 26us/step - loss: 0.3013 - accuracy: 0.8779\n",
      "Epoch 39/50\n",
      "12259/12259 [==============================] - 0s 29us/step - loss: 0.2979 - accuracy: 0.8825\n",
      "Epoch 40/50\n",
      "12259/12259 [==============================] - 0s 26us/step - loss: 0.2963 - accuracy: 0.8790\n",
      "Epoch 41/50\n",
      "12259/12259 [==============================] - 0s 28us/step - loss: 0.2945 - accuracy: 0.8823\n",
      "Epoch 42/50\n",
      "12259/12259 [==============================] - 0s 36us/step - loss: 0.2815 - accuracy: 0.8857\n",
      "Epoch 43/50\n",
      "12259/12259 [==============================] - 1s 41us/step - loss: 0.2865 - accuracy: 0.8816\n",
      "Epoch 44/50\n",
      "12259/12259 [==============================] - 0s 29us/step - loss: 0.2762 - accuracy: 0.8884\n",
      "Epoch 45/50\n",
      "12259/12259 [==============================] - 0s 25us/step - loss: 0.2810 - accuracy: 0.8858\n",
      "Epoch 46/50\n",
      "12259/12259 [==============================] - 0s 25us/step - loss: 0.2786 - accuracy: 0.8893\n",
      "Epoch 47/50\n",
      "12259/12259 [==============================] - 0s 26us/step - loss: 0.2781 - accuracy: 0.8850\n",
      "Epoch 48/50\n",
      "12259/12259 [==============================] - 0s 27us/step - loss: 0.2688 - accuracy: 0.8927\n",
      "Epoch 49/50\n",
      "12259/12259 [==============================] - 0s 26us/step - loss: 0.2721 - accuracy: 0.8904\n",
      "Epoch 50/50\n",
      "12259/12259 [==============================] - 0s 27us/step - loss: 0.2666 - accuracy: 0.8929\n"
     ]
    },
    {
     "data": {
      "text/plain": [
       "<keras.callbacks.callbacks.History at 0x1a01c8daf60>"
      ]
     },
     "execution_count": 31,
     "metadata": {},
     "output_type": "execute_result"
    }
   ],
   "source": [
    "# Fit the model\n",
    "model.fit(train_x, train_y, epochs=50, batch_size=100)"
   ]
  },
  {
   "cell_type": "code",
   "execution_count": 32,
   "metadata": {},
   "outputs": [
    {
     "name": "stdout",
     "output_type": "stream",
     "text": [
      "8174/8174 [==============================] - 0s 57us/step\n",
      "\n",
      "accuracy: 91.39%\n"
     ]
    }
   ],
   "source": [
    "# evaluate the model\n",
    "scores = model.evaluate(test_x, test_y)\n",
    "\n",
    "print(\"\\n%s: %.2f%%\" % (model.metrics_names[1], scores[1]*100))"
   ]
  },
  {
   "cell_type": "code",
   "execution_count": null,
   "metadata": {},
   "outputs": [],
   "source": []
  }
 ],
 "metadata": {
  "kernelspec": {
   "display_name": "Python 3",
   "language": "python",
   "name": "python3"
  },
  "language_info": {
   "codemirror_mode": {
    "name": "ipython",
    "version": 3
   },
   "file_extension": ".py",
   "mimetype": "text/x-python",
   "name": "python",
   "nbconvert_exporter": "python",
   "pygments_lexer": "ipython3",
   "version": "3.7.3"
  }
 },
 "nbformat": 4,
 "nbformat_minor": 2
}
